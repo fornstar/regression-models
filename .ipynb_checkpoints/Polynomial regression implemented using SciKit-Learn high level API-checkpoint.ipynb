{
 "cells": [
  {
   "cell_type": "raw",
   "metadata": {},
   "source": [
    "# Polynomial regression with gradient descent against MSE"
   ]
  },
  {
   "cell_type": "code",
   "execution_count": 1,
   "metadata": {
    "collapsed": true
   },
   "outputs": [],
   "source": [
    "# Configuration & Setup\n",
    "import numpy as np\n",
    "import os\n",
    "\n",
    "%matplotlib inline\n",
    "import matplotlib\n",
    "import matplotlib.pyplot as plt\n",
    "plt.rcParams['axes.labelsize'] = 14\n",
    "plt.rcParams['xtick.labelsize'] = 12\n",
    "plt.rcParams['ytick.labelsize'] = 12\n",
    "\n",
    "np.random.seed(42)"
   ]
  },
  {
   "cell_type": "code",
   "execution_count": 73,
   "metadata": {},
   "outputs": [
    {
     "data": {
      "text/plain": [
       "[<matplotlib.lines.Line2D at 0x10d0682e8>]"
      ]
     },
     "execution_count": 73,
     "metadata": {},
     "output_type": "execute_result"
    },
    {
     "data": {
      "image/png": "[encoded data removed]",
      "text/plain": [
       "<matplotlib.figure.Figure at 0x10d0eb160>"
      ]
     },
     "metadata": {},
     "output_type": "display_data"
    }
   ],
   "source": [
    "# Generate a dataset\n",
    "m = 200\n",
    "X = 6 * np.random.rand(m,1)-3\n",
    "y = 0.5 * X**2 + X + 2 + np.random.rand(m,1)\n",
    "plt.plot(X,y,\"b.\")\n",
    "\n",
    "#note the values of the coefficients, beta1 = 0.5, beta2 = 1 and beta3 = 2"
   ]
  },
  {
   "cell_type": "code",
   "execution_count": 90,
   "metadata": {},
   "outputs": [
    {
     "name": "stdout",
     "output_type": "stream",
     "text": [
      "Feature names ['x0', 'x0^2'] \n",
      "\n",
      "Feature array\n",
      " [[  2.11385880e+00   4.46839904e+00]\n",
      " [ -7.88008325e-01   6.20957121e-01]\n",
      " [ -1.50134564e+00   2.25403872e+00]\n",
      " [ -1.85572367e+00   3.44371036e+00]\n",
      " [ -6.98048440e-02   4.87271625e-03]\n",
      " [  1.85773316e+00   3.45117248e+00]\n",
      " [  1.51159620e+00   2.28492306e+00]\n",
      " [ -1.78003559e+00   3.16852670e+00]\n",
      " [ -1.36540913e+00   1.86434209e+00]\n",
      " [ -1.22643313e+00   1.50413821e+00]\n",
      " [  9.21951077e-01   8.49993789e-01]\n",
      " [  1.10343212e+00   1.21756244e+00]\n",
      " [  2.66247701e+00   7.08878383e+00]\n",
      " [  1.93462940e+00   3.74279090e+00]\n",
      " [ -2.28543354e+00   5.22320647e+00]\n",
      " [  4.02343579e-02   1.61880355e-03]\n",
      " [ -1.29903205e+00   1.68748426e+00]\n",
      " [  1.16852926e+00   1.36546064e+00]\n",
      " [  5.80235242e-01   3.36672936e-01]\n",
      " [  5.92075021e-01   3.50552830e-01]\n",
      " [  2.72002660e+00   7.39854472e+00]\n",
      " [  1.28424867e+00   1.64929465e+00]\n",
      " [  2.48306280e-01   6.16560088e-02]\n",
      " [ -1.23524589e+00   1.52583242e+00]\n",
      " [  6.75886905e-01   4.56823108e-01]\n",
      " [ -1.57837271e+00   2.49126040e+00]\n",
      " [  1.66455645e+00   2.77074817e+00]\n",
      " [ -1.36683987e+00   1.86825122e+00]\n",
      " [  2.10442812e+00   4.42861770e+00]\n",
      " [ -1.10082510e+00   1.21181591e+00]\n",
      " [  2.45178316e+00   6.01124067e+00]\n",
      " [  2.12641732e+00   4.52165062e+00]\n",
      " [  6.99545484e-01   4.89363884e-01]\n",
      " [  2.77389488e+00   7.69449279e+00]\n",
      " [ -2.81951682e+00   7.94967512e+00]\n",
      " [ -2.66742089e+00   7.11513423e+00]\n",
      " [ -2.03679190e+00   4.14852124e+00]\n",
      " [ -6.44637823e-01   4.15557923e-01]\n",
      " [  6.62336767e-01   4.38689993e-01]\n",
      " [ -1.61371554e+00   2.60407785e+00]\n",
      " [  2.67624248e+00   7.16227380e+00]\n",
      " [  1.22009451e+00   1.48863063e+00]\n",
      " [  7.96714879e-02   6.34754599e-03]\n",
      " [ -2.70970591e+00   7.34250614e+00]\n",
      " [ -1.40499462e+00   1.97400987e+00]\n",
      " [  8.40737418e-01   7.06839406e-01]\n",
      " [ -1.79200674e+00   3.21128817e+00]\n",
      " [ -1.46768112e+00   2.15408788e+00]\n",
      " [  8.19118770e-01   6.70955559e-01]\n",
      " [ -6.55187932e-01   4.29271226e-01]\n",
      " [ -2.91241333e+00   8.48215139e+00]\n",
      " [ -2.12705312e-01   4.52435497e-02]\n",
      " [  7.07306891e-01   5.00283038e-01]\n",
      " [  7.97408904e-01   6.35860960e-01]\n",
      " [ -1.27310927e+00   1.62080721e+00]\n",
      " [  2.97310569e+00   8.83935747e+00]\n",
      " [ -1.31200924e+00   1.72136824e+00]\n",
      " [  2.84241799e+00   8.07934001e+00]\n",
      " [  1.82141026e+00   3.31753534e+00]\n",
      " [ -7.00719180e-01   4.91007370e-01]\n",
      " [  6.81914881e-01   4.65007905e-01]\n",
      " [ -1.10805575e+00   1.22778755e+00]\n",
      " [  1.30500240e-01   1.70303126e-02]\n",
      " [  8.31586028e-01   6.91535322e-01]\n",
      " [  2.66174859e+00   7.08490557e+00]\n",
      " [  2.61584921e+00   6.84266711e+00]\n",
      " [ -8.41396619e-01   7.07948271e-01]\n",
      " [ -2.02439070e+00   4.09815771e+00]\n",
      " [  1.12805147e+00   1.27250011e+00]\n",
      " [ -7.55574418e-03   5.70892700e-05]\n",
      " [ -9.59265298e-02   9.20189912e-03]\n",
      " [  2.22007939e+00   4.92875252e+00]\n",
      " [ -1.80163434e+00   3.24588631e+00]\n",
      " [  1.34444084e+00   1.80752117e+00]\n",
      " [ -8.94354757e-01   7.99870432e-01]\n",
      " [ -1.31415983e+00   1.72701607e+00]\n",
      " [  5.76118110e-01   3.31912077e-01]\n",
      " [ -1.84535498e+00   3.40533499e+00]\n",
      " [ -3.76947641e-01   1.42089524e-01]\n",
      " [ -1.37683305e+00   1.89566925e+00]\n",
      " [ -6.74353662e-01   4.54752862e-01]\n",
      " [ -1.57199544e+00   2.47116965e+00]\n",
      " [ -2.26825925e+00   5.14500002e+00]\n",
      " [  1.59639679e+00   2.54848271e+00]\n",
      " [ -2.39216972e+00   5.72247598e+00]\n",
      " [ -6.89277824e-01   4.75103918e-01]\n",
      " [ -2.14883030e+00   4.61747166e+00]\n",
      " [  2.53507119e+00   6.42658592e+00]\n",
      " [  1.31685265e-01   1.73410090e-02]\n",
      " [  1.55680016e+00   2.42362673e+00]\n",
      " [  4.98154748e-01   2.48158153e-01]\n",
      " [ -5.45798489e-02   2.97895991e-03]\n",
      " [  2.20318964e+00   4.85404459e+00]\n",
      " [  2.91077119e+00   8.47258893e+00]\n",
      " [ -2.37957845e+00   5.66239358e+00]\n",
      " [  9.42038168e-02   8.87435910e-03]\n",
      " [ -5.52126192e-01   3.04843332e-01]\n",
      " [  1.79124182e+00   3.20854726e+00]\n",
      " [ -1.86696157e+00   3.48554550e+00]\n",
      " [  1.86151075e+00   3.46522226e+00]\n",
      " [  1.90949612e+00   3.64617544e+00]\n",
      " [ -1.12619723e+00   1.26832021e+00]\n",
      " [  1.71380737e+00   2.93713572e+00]\n",
      " [ -1.95603322e+00   3.82606595e+00]\n",
      " [  1.14209534e+00   1.30438177e+00]\n",
      " [ -2.19287630e-02   4.80870648e-04]\n",
      " [  2.12695925e+00   4.52395564e+00]\n",
      " [ -1.65363955e+00   2.73452375e+00]\n",
      " [ -2.07079050e-01   4.28817331e-02]\n",
      " [ -2.01371663e+00   4.05505467e+00]\n",
      " [  5.84057102e-01   3.41122698e-01]\n",
      " [ -1.57809784e+00   2.49039281e+00]\n",
      " [ -2.40236450e+00   5.77135517e+00]\n",
      " [ -1.30480256e+00   1.70250972e+00]\n",
      " [ -8.67434611e-01   7.52442805e-01]\n",
      " [ -1.96239649e+00   3.85099997e+00]\n",
      " [  2.04711408e+00   4.19067605e+00]\n",
      " [  5.22549939e-01   2.73058439e-01]\n",
      " [ -1.12174274e+00   1.25830677e+00]\n",
      " [  2.57103501e+00   6.61022104e+00]\n",
      " [ -8.80030957e-01   7.74454485e-01]\n",
      " [ -8.89942792e-01   7.91998173e-01]\n",
      " [  9.59482937e-01   9.20607507e-01]\n",
      " [  6.24270121e-02   3.89713183e-03]\n",
      " [  6.99909937e-01   4.89873920e-01]\n",
      " [  1.15254663e+00   1.32836374e+00]\n",
      " [ -2.12679821e-01   4.52327061e-02]\n",
      " [ -2.89496122e+00   8.38080044e+00]\n",
      " [ -4.88538932e-02   2.38670288e-03]\n",
      " [ -1.49866694e+00   2.24600258e+00]\n",
      " [ -1.45061348e+00   2.10427948e+00]\n",
      " [  1.39009045e+00   1.93235147e+00]\n",
      " [ -1.01383752e+00   1.02786652e+00]\n",
      " [  6.94432296e-01   4.82236214e-01]\n",
      " [ -4.15628901e-02   1.72747384e-03]\n",
      " [  1.44549624e+00   2.08945938e+00]\n",
      " [ -1.68012494e+00   2.82281983e+00]\n",
      " [  1.32771891e+00   1.76283752e+00]\n",
      " [ -2.94987869e+00   8.70178431e+00]\n",
      " [  4.41782065e-01   1.95171393e-01]\n",
      " [ -1.26637250e+00   1.60369930e+00]\n",
      " [  2.19084290e+00   4.79979262e+00]\n",
      " [  2.39173848e+00   5.72041298e+00]\n",
      " [ -2.58873002e+00   6.70152313e+00]\n",
      " [  3.90142220e-01   1.52210952e-01]\n",
      " [ -2.87097546e+00   8.24250007e+00]\n",
      " [ -6.78808764e-01   4.60781338e-01]\n",
      " [  7.27878492e-01   5.29807100e-01]\n",
      " [ -6.56688439e-01   4.31239706e-01]\n",
      " [ -1.69887542e+00   2.88617768e+00]\n",
      " [ -1.53270453e+00   2.34918318e+00]\n",
      " [ -1.88289596e+00   3.54529718e+00]\n",
      " [  2.95827319e+00   8.75138025e+00]\n",
      " [  2.19163645e+00   4.80327035e+00]\n",
      " [ -2.12560671e+00   4.51820389e+00]\n",
      " [ -2.09419122e+00   4.38563688e+00]\n",
      " [  2.23449218e+00   4.99295529e+00]\n",
      " [  1.76450968e+00   3.11349440e+00]\n",
      " [  1.12318204e+00   1.26153789e+00]\n",
      " [ -9.54392872e-01   9.10865755e-01]\n",
      " [ -1.20949907e+00   1.46288800e+00]\n",
      " [ -9.07477088e-01   8.23514666e-01]\n",
      " [  4.75136565e-01   2.25754755e-01]\n",
      " [ -3.34825405e-01   1.12108052e-01]\n",
      " [ -1.99478659e+00   3.97917355e+00]\n",
      " [ -3.07374208e-01   9.44789037e-02]\n",
      " [ -2.66029812e+00   7.07718609e+00]\n",
      " [  2.39152947e+00   5.71941322e+00]\n",
      " [  2.58410270e+00   6.67758676e+00]\n",
      " [  4.22701563e-01   1.78676612e-01]\n",
      " [  1.70180054e+00   2.89612507e+00]\n",
      " [  1.90341115e+00   3.62297399e+00]\n",
      " [ -2.37212030e+00   5.62695474e+00]\n",
      " [  1.63448306e+00   2.67153488e+00]\n",
      " [ -4.92432330e-01   2.42489599e-01]\n",
      " [ -7.37701754e-01   5.44203877e-01]\n",
      " [  1.57830396e-01   2.49104340e-02]\n",
      " [ -9.11007085e-01   8.29933909e-01]\n",
      " [ -1.34116327e+00   1.79871892e+00]\n",
      " [  7.71019204e-01   5.94470612e-01]\n",
      " [ -2.08507161e+00   4.34752364e+00]\n",
      " [ -1.30120003e+00   1.69312152e+00]\n",
      " [  2.21708438e+00   4.91546314e+00]\n",
      " [  2.32171841e+00   5.39037638e+00]\n",
      " [  3.27478931e-01   1.07242450e-01]\n",
      " [ -1.57560783e-01   2.48254004e-02]\n",
      " [ -2.97453806e+00   8.84787668e+00]\n",
      " [ -1.72549565e+00   2.97733523e+00]\n",
      " [  2.32211845e+00   5.39223409e+00]\n",
      " [ -2.39758459e+00   5.74841185e+00]\n",
      " [ -2.49774220e+00   6.23871607e+00]\n",
      " [  1.93605396e+00   3.74830492e+00]\n",
      " [  2.14698653e+00   4.60955114e+00]\n",
      " [  1.06203304e+00   1.12791417e+00]\n",
      " [  2.89424592e+00   8.37665944e+00]\n",
      " [  2.16900684e-01   4.70459067e-02]\n",
      " [ -2.48372512e+00   6.16889047e+00]\n",
      " [  2.12409056e+00   4.51176072e+00]\n",
      " [  1.98665167e+00   3.94678487e+00]\n",
      " [  8.96345757e-01   8.03435717e-01]]\n"
     ]
    }
   ],
   "source": [
    "#We are buildling a model y = (beta1 * X**2) + (beta2 * X) + beta3\n",
    "#Our task is to approximate the values of beta1, beta2 and beta3\n",
    "\n",
    "import pandas as pd\n",
    "from sklearn.preprocessing import PolynomialFeatures\n",
    "\n",
    "#PolynomialFeatures returns the design matrix X for the specified degree, see Matrix Algebra explanation given here: https://en.wikipedia.org/wiki/Polynomial_regression\n",
    "poly_features = PolynomialFeatures(degree=2, include_bias=False)\n",
    "\n",
    "#poly_features.fit_transform returns the X features in an array with shape [n_samples, n_features_new] according the coefficients calculated\n",
    "X_poly = poly_features.fit_transform(X)\n",
    "\n",
    "#note the names of the two features \n",
    "print(\"Feature names\",poly_features.get_feature_names(),\"\\n\")\n",
    "\n",
    "#note the array of features with shape [n_samples, n_features_new]\n",
    "print(\"Feature array\\n\",X_poly)"
   ]
  },
  {
   "cell_type": "code",
   "execution_count": 91,
   "metadata": {},
   "outputs": [
    {
     "name": "stdout",
     "output_type": "stream",
     "text": [
      "[ 2.47197924] [[ 0.99881156  0.5062423 ]]\n"
     ]
    },
    {
     "data": {
      "text/plain": [
       "[<matplotlib.lines.Line2D at 0x10c105978>]"
      ]
     },
     "execution_count": 91,
     "metadata": {},
     "output_type": "execute_result"
    },
    {
     "data": {
      "image/png": "[encoded data removed]",
      "text/plain": [
       "<matplotlib.figure.Figure at 0x10c3b1dd8>"
      ]
     },
     "metadata": {},
     "output_type": "display_data"
    }
   ],
   "source": [
    "from sklearn.linear_model import LinearRegression\n",
    "\n",
    "#print the coefficients, note these produce the least squares regression \n",
    "print(lin_reg.intercept_,lin_reg.coef_)\n",
    "\n",
    "#build the regression line using the features array\n",
    "lin_reg = LinearRegression()\n",
    "\n",
    "#note we pass lin_reg.fit() the features of our model\n",
    "lin_reg.fit(X_poly,y)\n",
    "\n",
    "#For each instance we compute the corresponding y value according to our model, and plot the points to indicate the regression curve\n",
    "y_predict = lin_reg.predict(X_poly)\n",
    "plt.plot(X,y_predict,\"b.\")\n",
    "\n",
    "#plot on the original points\n",
    "plt.plot(X,y,\"b.\")"
   ]
  },
  {
   "cell_type": "code",
   "execution_count": null,
   "metadata": {
    "collapsed": true
   },
   "outputs": [],
   "source": []
  }
 ],
 "metadata": {
  "kernelspec": {
   "display_name": "Python 3",
   "language": "python",
   "name": "python3"
  },
  "language_info": {
   "codemirror_mode": {
    "name": "ipython",
    "version": 3
   },
   "file_extension": ".py",
   "mimetype": "text/x-python",
   "name": "python",
   "nbconvert_exporter": "python",
   "pygments_lexer": "ipython3",
   "version": "3.6.1rc1"
  }
 },
 "nbformat": 4,
 "nbformat_minor": 2
}
