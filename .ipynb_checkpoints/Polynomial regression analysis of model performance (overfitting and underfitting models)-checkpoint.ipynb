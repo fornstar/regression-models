{
 "cells": [
  {
   "cell_type": "raw",
   "metadata": {},
   "source": [
    "# Polynomial regression analysis of model performance (overfitting and underfitting models)"
   ]
  },
  {
   "cell_type": "code",
   "execution_count": 1,
   "metadata": {
    "collapsed": true
   },
   "outputs": [],
   "source": [
    "# To support both python 2 and python 3\n",
    "from __future__ import division, print_function, unicode_literals\n",
    "\n",
    "# Common imports\n",
    "import numpy as np\n",
    "import os\n",
    "import numpy.random as rnd\n",
    "\n",
    "# to make this notebook's output stable across runs\n",
    "np.random.seed(42)\n",
    "\n",
    "# To plot pretty figures\n",
    "%matplotlib inline\n",
    "import matplotlib\n",
    "import matplotlib.pyplot as plt\n",
    "plt.rcParams['axes.labelsize'] = 14\n",
    "plt.rcParams['xtick.labelsize'] = 12\n",
    "plt.rcParams['ytick.labelsize'] = 12\n",
    "\n",
    "np.random.seed(42)"
   ]
  },
  {
   "cell_type": "code",
   "execution_count": 2,
   "metadata": {
    "collapsed": true
   },
   "outputs": [],
   "source": [
    "#Construct a dataset with noise\n",
    "m = 20 #number of data points\n",
    "X = 6 * np.random.rand(m, 1) - 3\n",
    "y = 0.5 * X**2 + X + 2 + np.random.randn(m, 1)"
   ]
  },
  {
   "cell_type": "code",
   "execution_count": 3,
   "metadata": {},
   "outputs": [
    {
     "name": "stderr",
     "output_type": "stream",
     "text": [
      "/Library/Frameworks/Python.framework/Versions/3.6/lib/python3.6/site-packages/scipy/linalg/basic.py:1018: RuntimeWarning: internal gelsd driver lwork query error, required iwork dimension not returned. This is likely the result of LAPACK bug 0038, fixed in LAPACK 3.2.2 (released July 21, 2010). Falling back to 'gelss' driver.\n",
      "  warnings.warn(mesg, RuntimeWarning)\n"
     ]
    },
    {
     "data": {
      "text/plain": [
       "LinearRegression(copy_X=True, fit_intercept=True, n_jobs=1, normalize=False)"
      ]
     },
     "execution_count": 3,
     "metadata": {},
     "output_type": "execute_result"
    }
   ],
   "source": [
    "#We are buildling a model y = (beta1 * X**2) + (beta2 * X) + beta3\n",
    "#Our task is to approximate the values of beta1, beta2 and beta3\n",
    "import pandas as pd\n",
    "from sklearn.preprocessing import PolynomialFeatures\n",
    "from sklearn.linear_model import LinearRegression\n",
    "\n",
    "#we need to approximate the polynomial degree\n",
    "#try overfitting by setting the model degree = 50 and observe the divergence of the RMSE on the learning curves\n",
    "#try underfitting by setting the model degree = 1 and observe the gap between the RMSE on the learning curves\n",
    "degree = 50\n",
    "\n",
    "#PolynomialFeatures returns the design matrix X for the specified degree, see Matrix Algebra explanation given here: https://en.wikipedia.org/wiki/Polynomial_regression\n",
    "#Change the degre hyperparameter and note the learning cuves as the model overfits and underfits the data\n",
    "poly_features = PolynomialFeatures(degree=degree, include_bias=False)\n",
    "\n",
    "#poly_features.fit_transform returns the X features in an array with shape [n_samples, n_features_new] according the coefficients calculated\n",
    "X_poly = poly_features.fit_transform(X)\n",
    "\n",
    "#note the names of the two features \n",
    "#print(\"Feature names\",poly_features.get_feature_names(),\"\\n\")\n",
    "\n",
    "#note the array of features with shape [n_samples, n_features_new]\n",
    "#print(\"Feature array\\n\",X_poly)\n",
    "\n",
    "#build the regression line using the features array\n",
    "lin_reg = LinearRegression()\n",
    "\n",
    "#print(\"X_poly\",X_poly)\n",
    "#print(\"y\",y)\n",
    "\n",
    "#note we pass lin_reg.fit() the features of our model\n",
    "lin_reg.fit(X_poly,y)\n",
    "\n",
    "#print the coefficients, note these produce the least squares regression \n",
    "##print(lin_reg.intercept_,lin_reg.coef_)"
   ]
  },
  {
   "cell_type": "code",
   "execution_count": 4,
   "metadata": {},
   "outputs": [],
   "source": [
    "#a function that plots the training curves for a given model\n",
    "from sklearn.metrics import mean_squared_error\n",
    "from sklearn.model_selection import train_test_split\n",
    "\n",
    "def plot_learning_curves(model,X,y):\n",
    "    #split the data into training and validation\n",
    "    X_train, X_val, y_train, y_val = train_test_split(X,y,test_size=0.2)\n",
    "    \n",
    "    #define an array to hold the errors\n",
    "    train_errors, val_errors = [],[]\n",
    "    \n",
    "    #from training set of size 1 to length of the entire training set, compute the training and validation errors.\n",
    "    for m in range(1,len(X_train)):\n",
    "        \n",
    "        #fit the model to the training data\n",
    "        poly_features = PolynomialFeatures(degree=degree, include_bias=False)\n",
    "        X_train_poly = poly_features.fit_transform(X_train[:m])\n",
    "        \n",
    "        #refit the model up to the new m value\n",
    "        model.fit(X_train_poly,y_train[:m])\n",
    "\n",
    "        #compute the y values for the training batch\n",
    "        y_train_predict = model.predict(X_train_poly)\n",
    "        \n",
    "        #compute y predictions across the validation set\n",
    "        y_val_predict = model.predict(poly_features.transform(X_val))\n",
    "        \n",
    "        #compute the training and validation errors and append these values to the array\n",
    "        train_errors.append(mean_squared_error(y_train_predict,y_train[:m]))\n",
    "        val_errors.append(mean_squared_error(y_val_predict,y_val))\n",
    "    \n",
    "    #plot the Root Mean Square Error of the training and validation sets\n",
    "    plt.plot(np.sqrt(train_errors),\"r-+\",linewidth=2, label=\"train\")\n",
    "    plt.plot(np.sqrt(val_errors), \"b-\", linewidth=3, label=\"val\")"
   ]
  },
  {
   "cell_type": "code",
   "execution_count": 5,
   "metadata": {},
   "outputs": [
    {
     "data": {
      "text/plain": [
       "<matplotlib.legend.Legend at 0x10a36f780>"
      ]
     },
     "execution_count": 5,
     "metadata": {},
     "output_type": "execute_result"
    },
    {
     "data": {
      "image/png": "[encoded data removed]",
      "text/plain": [
       "<matplotlib.figure.Figure at 0x10a2d6358>"
      ]
     },
     "metadata": {},
     "output_type": "display_data"
    }
   ],
   "source": [
    "from sklearn.metrics import mean_squared_error\n",
    "from sklearn.model_selection import train_test_split\n",
    "\n",
    "#plot on the original points\n",
    "plt.plot(X,y,\"b.\")\n",
    "\n",
    "#We need a new model created in continuous linear space to construct the regression line\n",
    "#define the number of points in space\n",
    "X_continous=np.linspace(-2.9, 2.7,100).reshape(-1,1)\n",
    "X_continous_poly = poly_features.fit_transform(X_continous)\n",
    "y_continous_predict = lin_reg.predict(X_continous_poly)\n",
    "\n",
    "#print(\"X_continuous_poly\",X_continous_poly)\n",
    "\n",
    "plt.plot(X_continous,y_continous_predict,\"r-\", linewidth=1, label=\"Predictions\")\n",
    "plt.xlabel(\"$x_1$\", fontsize=18)\n",
    "plt.ylabel(\"$y$\", rotation=0, fontsize=18)\n",
    "plt.ylim([0,10])\n",
    "plt.legend(loc=\"upper left\", fontsize=14)"
   ]
  },
  {
   "cell_type": "code",
   "execution_count": 6,
   "metadata": {},
   "outputs": [
    {
     "data": {
      "text/plain": [
       "<matplotlib.text.Text at 0x10a4d7ac8>"
      ]
     },
     "execution_count": 6,
     "metadata": {},
     "output_type": "execute_result"
    },
    {
     "data": {
      "image/png": "[encoded data removed]",
      "text/plain": [
       "<matplotlib.figure.Figure at 0x10a4b82b0>"
      ]
     },
     "metadata": {},
     "output_type": "display_data"
    }
   ],
   "source": [
    "lin_reg = LinearRegression()\n",
    "plot_learning_curves(lin_reg,X,y)\n",
    "plt.legend(loc=\"upper right\", fontsize=14)   # not shown in the book\n",
    "plt.xlabel(\"Training set size\", fontsize=14) # not shown\n",
    "plt.ylabel(\"RMSE\", fontsize=14)  \n",
    "\n",
    "#If there is a gap between the learning curves, then the model performs significantly better on the training data than on the validation data (overfitting)\n",
    "#If both curves reach a plateau, are close and the RMSE is fairly high, the model is underfitting."
   ]
  },
  {
   "cell_type": "code",
   "execution_count": null,
   "metadata": {
    "collapsed": true
   },
   "outputs": [],
   "source": []
  }
 ],
 "metadata": {
  "kernelspec": {
   "display_name": "Python 3",
   "language": "python",
   "name": "python3"
  },
  "language_info": {
   "codemirror_mode": {
    "name": "ipython",
    "version": 3
   },
   "file_extension": ".py",
   "mimetype": "text/x-python",
   "name": "python",
   "nbconvert_exporter": "python",
   "pygments_lexer": "ipython3",
   "version": "3.6.1rc1"
  }
 },
 "nbformat": 4,
 "nbformat_minor": 2
}
