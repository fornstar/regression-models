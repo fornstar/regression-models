{
 "cells": [
  {
   "cell_type": "raw",
   "metadata": {},
   "source": [
    "## Ridge regression (polynomial) with analysis of model performance"
   ]
  },
  {
   "cell_type": "code",
   "execution_count": 1,
   "metadata": {
    "collapsed": true
   },
   "outputs": [],
   "source": [
    "# To support both python 2 and python 3\n",
    "from __future__ import division, print_function, unicode_literals\n",
    "\n",
    "# Common imports\n",
    "import numpy as np\n",
    "import os\n",
    "import numpy.random as rnd\n",
    "\n",
    "# to make this notebook's output stable across runs\n",
    "np.random.seed(42)\n",
    "\n",
    "# To plot pretty figures\n",
    "%matplotlib inline\n",
    "import matplotlib\n",
    "import matplotlib.pyplot as plt\n",
    "plt.rcParams['axes.labelsize'] = 14\n",
    "plt.rcParams['xtick.labelsize'] = 12\n",
    "plt.rcParams['ytick.labelsize'] = 12\n",
    "\n",
    "np.random.seed(41)"
   ]
  },
  {
   "cell_type": "code",
   "execution_count": 2,
   "metadata": {
    "collapsed": true
   },
   "outputs": [],
   "source": [
    "#Construct a dataset with noise\n",
    "m = 100 #number of data points\n",
    "X = 6 * np.random.rand(m, 1) - 3\n",
    "y = 0.5 * X**2 + X + 2 + np.random.randn(m, 1)\n",
    "\n",
    "X_new=np.linspace(-3, 3, 500).reshape(-1, 1)"
   ]
  },
  {
   "cell_type": "code",
   "execution_count": null,
   "metadata": {
    "collapsed": true
   },
   "outputs": [],
   "source": [
    "#Set hyperparamters\n",
    "degree = 50\n",
    "alpha = 1.0"
   ]
  },
  {
   "cell_type": "code",
   "execution_count": 3,
   "metadata": {},
   "outputs": [
    {
     "name": "stderr",
     "output_type": "stream",
     "text": [
      "/Library/Frameworks/Python.framework/Versions/3.6/lib/python3.6/site-packages/matplotlib/axes/_axes.py:545: UserWarning: No labelled objects found. Use label='...' kwarg on individual plots.\n",
      "  warnings.warn(\"No labelled objects found. \"\n"
     ]
    },
    {
     "data": {
      "image/png": "[encoded data removed]",
      "text/plain": [
       "<matplotlib.figure.Figure at 0x105b31390>"
      ]
     },
     "metadata": {},
     "output_type": "display_data"
    }
   ],
   "source": [
    "from sklearn.preprocessing import StandardScaler\n",
    "from sklearn.pipeline import Pipeline\n",
    "from sklearn.preprocessing import PolynomialFeatures\n",
    "from sklearn.linear_model import Ridge\n",
    "#We are buildling a model y = (beta1 * X**2) + (beta2 * X) + beta3\n",
    "#Our task is to approximate the values of beta1, beta2 and beta3\n",
    "\n",
    "#PolynomialFeatures returns the design matrix X for the specified degree, see Matrix Algebra explanation given here: https://en.wikipedia.org/wiki/Polynomial_regression\n",
    "poly_features = PolynomialFeatures(degree=degree, include_bias=False)\n",
    "\n",
    "#scale the data\n",
    "std_scaler = StandardScaler()\n",
    "\n",
    "#build the regression line using the features array\n",
    "ridge_reg = Ridge(alpha=alpha)\n",
    "\n",
    "#construct a Pipeline for the regression task\n",
    "polynomial_regression = Pipeline((\n",
    "            (\"poly_features\", poly_features),\n",
    "            (\"std_scaler\", std_scaler),\n",
    "            (\"ridge_reg\", ridge_reg),\n",
    "        ))\n",
    "polynomial_regression.fit(X, y)\n",
    "\n",
    "#use the model to build a line with the continous dataset\n",
    "y_predict = polynomial_regression.predict(X_new)\n",
    "plt.plot(X_new, y_predict)\n",
    "\n",
    "#plot the original data\n",
    "plt.plot(X, y, \"b.\", linewidth=3)\n",
    "plt.legend(loc=\"upper left\")\n",
    "plt.xlabel(\"$x_1$\", fontsize=18)\n",
    "plt.ylabel(\"$y$\", rotation=0, fontsize=18)\n",
    "plt.axis([-3, 3, 0, 10])\n",
    "plt.show()"
   ]
  }
 ],
 "metadata": {
  "kernelspec": {
   "display_name": "Python 3",
   "language": "python",
   "name": "python3"
  },
  "language_info": {
   "codemirror_mode": {
    "name": "ipython",
    "version": 3
   },
   "file_extension": ".py",
   "mimetype": "text/x-python",
   "name": "python",
   "nbconvert_exporter": "python",
   "pygments_lexer": "ipython3",
   "version": "3.6.1rc1"
  }
 },
 "nbformat": 4,
 "nbformat_minor": 2
}
